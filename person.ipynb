{
 "cells": [
  {
   "cell_type": "code",
   "execution_count": null,
   "metadata": {},
   "outputs": [],
   "source": [
    "import pandas as pd\n",
    "import requests\n",
    "api_key = \"d9c38f1600bbb109904d0e363c145731\""
   ]
  },
  {
   "cell_type": "code",
   "execution_count": null,
   "metadata": {},
   "outputs": [],
   "source": [
    "df = pd.read_csv('name_basics.tsv',sep='\\t')"
   ]
  },
  {
   "cell_type": "code",
   "execution_count": null,
   "metadata": {},
   "outputs": [],
   "source": [
    "df.head()"
   ]
  },
  {
   "cell_type": "code",
   "execution_count": null,
   "metadata": {},
   "outputs": [],
   "source": [
    "len(df)\n",
    "# response = requests.get(\"https://api.themoviedb.org/3/find/\"+person_id+\"?api_key=d9c38f1600bbb109904d0e363c145731&language=en-US&external_source=imdb_id\")"
   ]
  },
  {
   "cell_type": "code",
   "execution_count": null,
   "metadata": {},
   "outputs": [],
   "source": [
    "# df.iloc[0]['nconst']\n",
    "imdb_ids = []\n",
    "name = []\n",
    "birthday = []\n",
    "deathday = []\n",
    "gender = []\n",
    "unknown = []\n",
    "len(df)\n",
    "count = 0"
   ]
  },
  {
   "cell_type": "code",
   "execution_count": null,
   "metadata": {},
   "outputs": [],
   "source": [
    "for i in range(len(df)):\n",
    "    imdb_id = df.iloc[i]['nconst']\n",
    "    response = requests.get(\"https://api.themoviedb.org/3/find/\"+imdb_id+\"?api_key=d9c38f1600bbb109904d0e363c145731&language=en-US&external_source=imdb_id\")\n",
    "    res = response.json()\n",
    "    if len(res['person_results']) == 0:\n",
    "        unknown.append(imdb_id)\n",
    "        continue\n",
    "    id = res['person_results'][0]['id']\n",
    "    response1 = requests.get(\"https://api.themoviedb.org/3/person/\"+str(id)+\"?api_key=d9c38f1600bbb109904d0e363c145731&language=en-US\")\n",
    "    res1 = response1.json()\n",
    "    imdb_ids.append(imdb_id)\n",
    "    name.append(res1['name'])\n",
    "    birthday.append(res1['birthday'])\n",
    "    deathday.append(res1['deathday'])\n",
    "    gender.append(res1['gender'])\n",
    "    count+=1\n",
    "    print(i)\n",
    "#     if count%100000==0:\n",
    "#         print('.')"
   ]
  },
  {
   "cell_type": "code",
   "execution_count": null,
   "metadata": {},
   "outputs": [],
   "source": [
    "# response = requests.get(\"https://api.themoviedb.org/3/find/\"+\"nm0000094\"+\"?api_key=d9c38f1600bbb109904d0e363c145731&language=en-US&external_source=imdb_id\")\n",
    "# res = response.json()\n",
    "# if len(res['person_results'])==0:\n",
    "#     print(\"ok\")\n",
    "# # id = res['person_results'][0]['id']"
   ]
  },
  {
   "cell_type": "code",
   "execution_count": null,
   "metadata": {},
   "outputs": [],
   "source": [
    "list_of_tuples = list(zip(imdb_ids,name, birthday,deathday,gender))  \n",
    "df1 = pd.DataFrame(list_of_tuples, columns = ['nconst','Name', 'birthDay','deathDay','Gender'])  "
   ]
  },
  {
   "cell_type": "code",
   "execution_count": null,
   "metadata": {},
   "outputs": [],
   "source": [
    "# df['deathYear'].unique()"
   ]
  },
  {
   "cell_type": "code",
   "execution_count": null,
   "metadata": {},
   "outputs": [],
   "source": [
    "# len(name)"
   ]
  },
  {
   "cell_type": "code",
   "execution_count": null,
   "metadata": {},
   "outputs": [],
   "source": []
  }
 ],
 "metadata": {
  "kernelspec": {
   "display_name": "Python 3",
   "language": "python",
   "name": "python3"
  },
  "language_info": {
   "codemirror_mode": {
    "name": "ipython",
    "version": 3
   },
   "file_extension": ".py",
   "mimetype": "text/x-python",
   "name": "python",
   "nbconvert_exporter": "python",
   "pygments_lexer": "ipython3",
   "version": "3.7.0"
  }
 },
 "nbformat": 4,
 "nbformat_minor": 2
}
